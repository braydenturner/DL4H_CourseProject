{
 "cells": [
  {
   "cell_type": "markdown",
   "id": "ed3a4738-2e3b-4230-a760-5aa18887dbdd",
   "metadata": {},
   "source": [
    "# Deep Learning For Healthcare Course Project: INPREM"
   ]
  },
  {
   "cell_type": "markdown",
   "id": "161bee9d-8169-434e-826e-2e4c9b29c687",
   "metadata": {},
   "source": [
    "https://www.kdd.org/kdd2020/accepted-papers/view/inprem-an-interpretable-and-trustworthy-predictive-model-for-healthcare"
   ]
  },
  {
   "cell_type": "markdown",
   "id": "db47c1bd-157c-444a-be21-ebc3cdbd4645",
   "metadata": {},
   "source": [
    "## Setup"
   ]
  },
  {
   "cell_type": "code",
   "execution_count": 11,
   "id": "5063b31c-2e09-4c90-933d-34354f6fb5d4",
   "metadata": {},
   "outputs": [
    {
     "name": "stdout",
     "output_type": "stream",
     "text": [
      "Looking in indexes: https://pypi.org/simple, https://pypi.ngc.nvidia.com\n",
      "Requirement already satisfied: sparsemax in /opt/conda/lib/python3.8/site-packages (0.1.9)\n",
      "Requirement already satisfied: torch in /opt/conda/lib/python3.8/site-packages (from sparsemax) (1.11.0a0+bfe5ad2)\n",
      "Requirement already satisfied: typing_extensions in /opt/conda/lib/python3.8/site-packages (from torch->sparsemax) (4.0.1)\n",
      "\u001b[33mWARNING: Running pip as the 'root' user can result in broken permissions and conflicting behaviour with the system package manager. It is recommended to use a virtual environment instead: https://pip.pypa.io/warnings/venv\u001b[0m\n"
     ]
    }
   ],
   "source": [
    "!pip3 install -U sparsemax"
   ]
  },
  {
   "cell_type": "code",
   "execution_count": 4,
   "id": "f3dc9044-b4f4-4504-99a1-041a4d89e6fa",
   "metadata": {},
   "outputs": [],
   "source": [
    "import os\n",
    "import pickle\n",
    "import json\n",
    "import random\n",
    "import numpy as np\n",
    "import pandas as pd\n",
    "\n",
    "\n",
    "# PyTorch\n",
    "import torch\n",
    "import torch.nn as nn\n",
    "import torch.nn.functional as F\n",
    "from sparsemax import Sparsemax"
   ]
  },
  {
   "cell_type": "code",
   "execution_count": 132,
   "id": "0dc863de-4dea-4fe9-b07c-f02da06a2872",
   "metadata": {},
   "outputs": [],
   "source": [
    "# set seed\n",
    "seed = 24\n",
    "random.seed(seed)\n",
    "np.random.seed(seed)\n",
    "torch.manual_seed(seed)\n",
    "os.environ[\"PYTHONHASHSEED\"] = str(seed)\n",
    "\n",
    "# define data path\n",
    "use_demo = False\n",
    "if use_demo:\n",
    "    DATA_PATH = \"demodata/\" # work with open source data\n",
    "else:\n",
    "    DATA_PATH = \"data/\" # work with PATIENT Data"
   ]
  },
  {
   "cell_type": "code",
   "execution_count": 133,
   "id": "9b317c7b-cdec-477b-ab90-f5004336588c",
   "metadata": {},
   "outputs": [
    {
     "name": "stdout",
     "output_type": "stream",
     "text": [
      "ADMISSIONS.csv      DIAGNOSES_ICD.csv   D_ICD_DIAGNOSES.csv ICUSTAYS.csv\n"
     ]
    }
   ],
   "source": [
    "!ls {DATA_PATH}"
   ]
  },
  {
   "cell_type": "markdown",
   "id": "f59820ba-ebce-486b-8c10-013ffb6615cc",
   "metadata": {
    "tags": []
   },
   "source": [
    "## Import Raw Data"
   ]
  },
  {
   "cell_type": "markdown",
   "id": "faafcd45-05f9-4855-89dc-c9f3afe2a3c9",
   "metadata": {},
   "source": [
    "For example, SUBJECT_ID refers to a unique patient, HADM_ID refers to a unique admission to the hospital, and ICUSTAY_ID refers to a unique admission to an intensive care unit."
   ]
  },
  {
   "cell_type": "code",
   "execution_count": 139,
   "id": "78d39bac-2632-4d00-9982-d3d5c915774d",
   "metadata": {},
   "outputs": [
    {
     "name": "stdout",
     "output_type": "stream",
     "text": [
      "diag_icd (651047 lines):\n",
      "    hadm_id icd9_code\n",
      "0   172335     40301\n",
      "1   172335       486\n",
      "2   172335     58281\n",
      "3   172335      5855\n",
      "4   172335      4254\n",
      "\n",
      "icustays (61532 lines):\n",
      "    subject_id  hadm_id  icustay_id              outtime\n",
      "0         268   110404      280836  2198-02-18 05:26:11\n",
      "1         269   106296      206613  2170-11-08 17:46:57\n",
      "2         270   188028      220345  2128-06-27 12:32:29\n",
      "3         271   173727      249196  2120-08-10 00:39:04\n",
      "4         272   164716      210407  2186-12-27 12:01:13\n",
      "\n"
     ]
    }
   ],
   "source": [
    "def load_dataset(filepath):\n",
    "    return pd.read_csv(filepath)\n",
    "\n",
    "def convert_datetime_to_day(df):\n",
    "    temp = pd.DataFrame()\n",
    "    temp[\"date\"] = pd.to_datetime(df['outtime'], format=\"%Y-%m-%d %H:%M:%S\")\n",
    "    return str(temp['date'].dt.year) + str(temp['date'].dt.month) + str(temp['date'].dt.day)\n",
    "\n",
    "diag_icd = load_dataset(os.path.join(DATA_PATH, 'DIAGNOSES_ICD.csv'))\n",
    "icd_descriptions = load_dataset(os.path.join(DATA_PATH, 'D_ICD_DIAGNOSES.csv'))\n",
    "icustays = load_dataset(os.path.join(DATA_PATH, 'ICUSTAYS.csv'))\n",
    "admissions = load_dataset(os.path.join(DATA_PATH, 'ADMISSIONS.csv'))\n",
    "\n",
    "diag_icd = diag_icd.rename(columns={\"hadm_id\".upper(): \"hadm_id\", \"icd9_code\".upper(): \"icd9_code\"})\n",
    "icustays = icustays.rename(columns={\"subject_id\".upper(): \"subject_id\", \"hadm_id\".upper(): \"hadm_id\", \"icustay_id\".upper(): \"icustay_id\", \"outtime\".upper(): \"outtime\"})\n",
    "\n",
    "diag_icd = diag_icd[[\"hadm_id\", \"icd9_code\"]]\n",
    "icustays = icustays[[\"subject_id\", \"hadm_id\", \"icustay_id\", \"outtime\"]]\n",
    "\n",
    "\n",
    "print(f\"diag_icd ({len(diag_icd)} lines):\\n\", diag_icd.head(), end=\"\\n\\n\")\n",
    "print(f\"icustays ({len(icustays)} lines):\\n\", icustays.head(), end=\"\\n\\n\")\n",
    "# print(f\"admissions ({admissions.size} lines):\\n\", admissions.head(), end=\"\\n\\n\")"
   ]
  },
  {
   "cell_type": "code",
   "execution_count": 140,
   "id": "b12ade38-be99-44c0-9fb7-e5c2dc2b1a73",
   "metadata": {},
   "outputs": [
    {
     "name": "stdout",
     "output_type": "stream",
     "text": [
      "joined_df (705921 lines):\n",
      "   icd9_code  subject_id  icustay_id              outtime\n",
      "0     40301         109      262652  2141-09-22 21:44:50\n",
      "1       486         109      262652  2141-09-22 21:44:50\n",
      "2     58281         109      262652  2141-09-22 21:44:50\n",
      "3      5855         109      262652  2141-09-22 21:44:50\n",
      "4      4254         109      262652  2141-09-22 21:44:50\n"
     ]
    }
   ],
   "source": [
    "joined_df = pd.merge(diag_icd, icustays, how='inner', on='hadm_id')[[\"icd9_code\", \"subject_id\", \"icustay_id\", \"outtime\"]]\n",
    "print(f\"joined_df ({len(joined_df)} lines):\\n\", joined_df.head())"
   ]
  },
  {
   "cell_type": "markdown",
   "id": "2f1f3438-5929-4f94-90fd-50e2af5b69b3",
   "metadata": {},
   "source": [
    "Convert y in to category labels. If (3, 4 ,5) always use left 3. If it starts with E, use (Exxx). If it starts with V, use (Vxx)."
   ]
  },
  {
   "cell_type": "code",
   "execution_count": 189,
   "id": "6c847451-714f-4bd3-b80a-a37a497105c4",
   "metadata": {},
   "outputs": [
    {
     "name": "stdout",
     "output_type": "stream",
     "text": [
      "Using 8755 patients\n"
     ]
    }
   ],
   "source": [
    "def convert_codes(codes):\n",
    "    out = []\n",
    "    for code in codes:\n",
    "        code = str(code)\n",
    "        if code[0] == \"E\":\n",
    "            c = code[:4]\n",
    "        elif code[0] == \"V\":\n",
    "            c = code[:3]\n",
    "            out.append(c)\n",
    "        else:\n",
    "            c = code[:3]\n",
    "            out.append(c)\n",
    "        unique_codes.add(c)\n",
    "            \n",
    "    return out\n",
    "\n",
    "X = []\n",
    "y = []\n",
    "unique_codes = set()\n",
    "\n",
    "for name, patient in joined_df.sort_values(\"outtime\").groupby([\"subject_id\"]):\n",
    "    visits = []\n",
    "    for _, visit in patient.groupby([\"icustay_id\"]):\n",
    "        codes = visit[\"icd9_code\"].tolist()\n",
    "        codes = convert_codes(codes)\n",
    "        visits.append(codes)\n",
    "    if len(visits) >= 2:\n",
    "        x, y_ = visits[:-1], visits[-1]\n",
    "        X.append(x)\n",
    "        y.append(y_)\n",
    "        \n",
    "print(f\"Using {len(X)} patients\")"
   ]
  },
  {
   "cell_type": "code",
   "execution_count": 190,
   "id": "79702804-810c-41c6-9381-fb1681ac3cf0",
   "metadata": {},
   "outputs": [],
   "source": [
    "assert(len(X) == len(y))"
   ]
  },
  {
   "cell_type": "code",
   "execution_count": 191,
   "id": "a9c18a9d-7aef-4ef9-a261-39b2c487f3a3",
   "metadata": {},
   "outputs": [
    {
     "name": "stdout",
     "output_type": "stream",
     "text": [
      "[['V29', 'V30', 'V05'], ['V12', '458', '272', '745'], ['785', '410', '438', 'V10', '274', '112', '285', '272', '414', '427', '427', '507', '459', '428', '403', '584', '578', '250'], ['V15', '225', '272', '401', 'V45', '272', 'V45', '348', '780', '424'], ['426', 'V58', '414', '244', '365', '428', '427', '428'], ['600', '530', '411', '401', '414', '305', '496', 'V10', '596'], ['709', '305', '285', '401', 'V10', 'V10', '348', '707', '191', '788', '482', '496', '112', '707', '507', '482', '513', '518', '512'], ['693', '579', '202', '263', '285', '578', '287', '288', '999'], ['401', '244', '285', '311', '998', '276'], ['585', 'V14', '042', '284', '263', '584', '276', '285', '425', '486', '428', '428', 'V07'], ['788', '244', '327', '995', '332', '300', '414', '272', '305', '600', 'V10', '038', '486', 'V42', '238', '585', 'V43', '427', 'V45'], ['135', '200', '447', '998', '518', '555', '286', '276', '531'], ['788', '276', '401', '427', '079', '458', '723', '424'], ['198', '431', '162', '427', '401'], ['038', '511', '507', '276', '789', '285', '333', '427', '995', '584', '790', '427', '425'], ['535', '996', 'V45', '274', '272', 'V45', '530', '553', '515', '535', '276', '458', '252', '532', '403', '285', '585'], ['585', '285', '287', '710', '327', '789', '284', '364', '425', '582', '789', '338', '403', 'V58', '285', '531', '345', 'V12', 'V12', '443'], ['427', '276', '410', '518', '413', '414', '401', '272', '427', '486', '491'], ['410', '725', '414', '285', '531'], ['571', '584', '572', '511', '286', '518', '287', '038', '486', '276', '263', '995', '303', '401', '572', '244', '112', '070', '280', '570', '250', '276'], ['414', '441', '486', '496', '447', '070', '401', '414', '272'], ['518', '998', '998', '730', 'V45', '414', '530', '250', '997', '427'], ['772', '765', 'V05', 'V30', '765'], ['V45', '425', '428', 'V58', '189', '412', 'V43'], ['401', '707', '995', '720', '733', '276', 'V44', '585', '038', '996', 'V45', '579'], ['414', '401', '272', 'V15', '300', '410', '079'], ['482', '441', '507', 'V09', '518', '564', '401', '584', '428'], ['780', '428', 'V09', '438', '276', 'V09', '482', '438', '438', '255', '599', '507', '401', '250', '731', '276', '787', '518', '285', '995', '038', '785', 'V58'], ['574', 'V42', '443', '873', 'V45', '401', '441', '807', '428', '806', '805', '427', '413'], ['496', '996', '038', '511', '482', '507', '518', '424', '428'], ['486', '255', '780', '285', '348', '191', '787'], ['789', '070', '255', '285', '403', '311', '724', 'V58', 'V10', 'V49', '585', '571', '996', '250', '287'], ['V30', '766', 'V29', 'V05', '770'], ['532', '592', '038', '507', '280', '997', '428', '584', '518'], ['396', '427', '398', '008', '557', '038', '575', '995', 'V58', '278', '714', '356', '368'], ['414', '427', '250', '424', '493', '428', '425'], ['714', '396', '414'], ['414', '349', 'V45', '410', '285', '272', 'V45', '585', '276', '250', '250', '428', 'V49', '403', '496', 'V10', '584', '428', '287', 'V58', 'V45', 'V49', '600'], ['401', '411', '427', '414', '997', '416'], ['403', '458', '728', '293', '428', '410', '427', '507', '584'], ['725', '272', '412', '444', '274', '998', '440', '410', '414', '440', '401', '414'], ['305', '414', '425', '521', '293', 'V60', '995', '285', '398', '486', '518', '785', '038', '410', '287', '599', '301', '396'], ['253', '482', '078', '518', '507', '042', '410', '136', '577'], ['041', '344', '784', '428', '038', '785', '410', '599', '250', '707', '403', '741', '285', '414', '785', '995'], ['273', '401', 'V13', '997', '305', '070', '155', '570', 'V12', '576'], ['493', '244', 'V12', '530', '250', '403', '280', '458', '413', '599', '585', '428', 'V49', 'V45', '998', '153', '428', '198', '263', '584', '560', '998', '427', '412'], ['V13', '578', '070', '579', '273', '348', '572', '456', '599', '584', '263', '867', '599', '486', '287', '276', '285', '453', '305', '305', '518', '571', '785', '572', '789', '286'], ['V45', '441', '578', '008', '496', '427', '276', '784', '599'], ['V05', '765', '765', 'V29', '774', 'V30'], ['V44', '285', '518', '287', '780'], ['511', '428', '512', '276', '427', '440', '510', '507', '518', '599', '486', 'V58', '250', '357', 'V58', '492', '041', '112', '998', '242', 'V49', '707'], ['198', '714', '160', '197', '198'], ['531', '785', '305', '724', '410', '996', '714', '414', 'V58'], ['805', '852'], ['997', '427', '428', '424', '401', '272', '250', '414', '410'], ['584', '440', '435', '585', 'V10', '403', '482', 'V13', '512', '305', '599', '693', '275', '428', '276', '998', '287'], ['733', '401', '285', '250', '530', 'V45', '427', '292'], ['518', '997', '428', '263', '250', '785', 'V42', '414', '410'], ['486', '414', '496', '998', '414', '426', '996', '785', '410'], ['577', '574', '998', '577', '276', '403', '276', '427', '553', '427', '783', '228'], ['714', '493', 'V45', '441', '486', '427', '204', '285', '424', '518', '428'], ['357', '250', '682', '583', '250', '414', '707', '440', '585'], ['805', '425', '428', '276', '427', 'V43', '593', 'V45'], ['530', '155', '571', '263', '428', '428', '707', '038', '530', '787', '785', '284', '584', '553', '414', '276', '272', '250', '345', '401', 'V44', '276', '995', '518'], ['746', 'V05', 'V31', '770'], ['996', '584', '585', '403', '276', '276', '008', '275', '272'], ['428', '427', '424', '401', '852'], ['530', '280', '585', '584', '491', '486', '300', '458', '410'], ['276', '458', '562', '285', '427', '401', '250', '211', '275', '455', '455'], ['428', '599', '276', '780', '491', '518', '780', '323', '136'], ['427', '398', '584', '396', '397', '276', '276', 'V45', '244', '401', '250', '414', '285'], ['294', '403', '588', '599', '286', '458', '588', 'V62', '285', '585', 'V15', '296'], ['426', '272', '285', '244', '401', '458', '414', 'V10', '398', '396'], ['250', '443', '780', '285', '300', '357', '584', '244', '008', '272', '401', '117'], ['745', '583', '300', '416', '518', '278', '348', '458', '327', '719', '729', '511', '473', '289', '517', '710', '999', '038', '995', '289', '346'], ['276', '579', '584', '280', 'V54', '729', '909', '733', '244', 'V10', '995', '276', '595', '785', '038'], ['276', '518', '038', '569', '428', '117', '280', '998', '584'], ['567', '285', '288', '401', '244', '995', '357', '567', '569', '998', '357', '599', '359', '557', '204', '038', '427', '518', 'V09'], ['401', '427', '599', '441', '996', '276', '478'], ['997', '593', '414', '427', '426', '285', '410', '530', '424'], ['V05', 'V50', 'V29', '765', '766', '765', 'V30'], ['507', '070', '070', '349', '707', '585', '424', '996', '790', '403', '428'], ['576', '785', '280', '038', '425', '410', '424', '427', '428'], ['707', '518', '707', '276', '276', '785', '427', '584', '038', '996', '507', '995', '331', '294', '730', '285', '401', '250'], ['255', '276', '276', '348', '263', '285', '275', '783', '401', '250', '287', '038', '428', '584', '785', '995', '276', '518', 'V42', '507'], ['765', '765', '775', '771', '769', 'V31'], ['268', 'V42', '425', '289', 'V42', '530', '285', '745', '414', '401', 'V10'], ['288', '283', '287', '710', '401'], ['518', '511', '198', '276', '276', '486', '285', '198', '428', 'V10', '733', '401', 'V45', '255', 'V43', 'V58'], ['427', '425', '482', 'V09', '518', '459', '396', '401', '997', 'V45', '518', '272', '584', '396', '427', '997'], ['507', '253', '335', '714', '788'], ['300', '305', '280', '969', '724', '278', '980', '272', '401', '788', '518', '305', '780'], ['250', '357', '403', '378', 'V08', 'V49', 'V58', 'V15', '536', '585', '333'], ['998', '996', '567', '569', '560'], ['416', '427', '428', '428', '396', '511', '414', '414', '447', '997'], ['427', '553', '998', '427', '780', '291', '707', 'V58', '998'], ['459', '428', '584', '276', '995', '496', '427', '428', '272', '724', '241', 'V45', '396', '276', '414', '276', 'V45', '486', '338', '008', '038'], ['272', '410', '414'], ['276', '486', '584', 'V46', '518', '428', '493', 'V45', '562', '414'], ['401', '785', '518', '303', '571', '276', '263', 'V45', '414']]\n"
     ]
    }
   ],
   "source": [
    "print(y[:100])"
   ]
  },
  {
   "cell_type": "code",
   "execution_count": 192,
   "id": "69f80811-2ae9-44bf-81bc-77b08f9edabb",
   "metadata": {},
   "outputs": [
    {
     "name": "stdout",
     "output_type": "stream",
     "text": [
      "1071\n"
     ]
    }
   ],
   "source": [
    "print(len(unique_codes))"
   ]
  },
  {
   "cell_type": "code",
   "execution_count": null,
   "id": "0f406311-1f41-41f0-86dc-2d09a286533d",
   "metadata": {},
   "outputs": [],
   "source": [
    "# ICD 9 Codes for Binary Classification\n",
    "diabetes = (\"Diabetes\", \"250.xx\")\n",
    "heart failure = (\"Heary Failure\", \"428.xx\")\n",
    "chronic_kidney_disease = (\"Chronic Kidney Disease\", \"585.xx\")"
   ]
  },
  {
   "cell_type": "markdown",
   "id": "f8da5af8",
   "metadata": {},
   "source": [
    "## Split Dataset"
   ]
  },
  {
   "cell_type": "markdown",
   "id": "44b7071d",
   "metadata": {},
   "source": [
    "For each task, we randomly split each dataset into training, validation, and testing sets five times in a 75:10:15 ratio"
   ]
  },
  {
   "cell_type": "code",
   "execution_count": 158,
   "id": "1d8b0e76",
   "metadata": {},
   "outputs": [],
   "source": [
    "from sklearn.model_selection import train_test_split\n",
    "\n",
    "train_size = 0.75\n",
    "\n",
    "X_train, X_remain, y_train, y_remain = train_test_split(X, y, train_size=0.75)\n",
    "\n",
    "test_size = 0.6 # (valid is 10% of remaining 25%, test is 15% of remaining 25%)\n",
    "\n",
    "X_valid, X_test, y_valid, y_test = train_test_split(X_remain, y_remain, test_size=0.6)"
   ]
  },
  {
   "cell_type": "markdown",
   "id": "62bf4afc-5be4-4ac2-831a-60d6eaa52c10",
   "metadata": {},
   "source": [
    "## Build Custom Dataset"
   ]
  },
  {
   "cell_type": "code",
   "execution_count": 159,
   "id": "3895e91d-962b-40de-852d-afb900d64b6d",
   "metadata": {
    "tags": []
   },
   "outputs": [],
   "source": [
    "from torch.utils.data import Dataset\n",
    "\n",
    "\n",
    "class CustomDataset(Dataset):\n",
    "    \n",
    "    def __init__(self, x, y):\n",
    "        self.x = x\n",
    "        self.y = y\n",
    "    \n",
    "    def __len__(self):\n",
    "        \n",
    "        return len(self.y)\n",
    "    \n",
    "    def __getitem__(self, index):\n",
    "        \n",
    "        return (self.x[index], self.y[index])\n",
    "        \n",
    "train_dataset = CustomDataset(X_train, y_train)\n",
    "val_dataset = CustomDataset(X_valid, y_valid)\n",
    "test_dataset = CustomDataset(X_test, y_test)"
   ]
  },
  {
   "cell_type": "markdown",
   "id": "fc7f5e7e-a159-45df-a748-97b3c904c3fc",
   "metadata": {},
   "source": [
    "## Load the Data (DataLoader)"
   ]
  },
  {
   "cell_type": "markdown",
   "id": "0f46fda0-2d1c-4529-a191-8f3f190e1b57",
   "metadata": {},
   "source": [
    "For each task, we randomly split each dataset into training, validation, and testing sets five times in a 75:10:15 ratio"
   ]
  },
  {
   "cell_type": "code",
   "execution_count": 160,
   "id": "784b31cb-ac66-46e2-80dd-b0d9813a973b",
   "metadata": {},
   "outputs": [],
   "source": [
    "def collate_fn(data):\n",
    "    \"\"\"\n",
    "    Arguments:\n",
    "        data: a list of samples fetched from `CustomDataset`\n",
    "        \n",
    "    Outputs:\n",
    "        x: a tensor of shape (# patients, max # visits, max # diagnosis codes) of type torch.long\n",
    "        masks: a tensor of shape (# patients, max # visits, max # diagnosis codes) of type torch.bool\n",
    "        rev_x: same as x but in reversed time. This will be used in our RNN model for masking \n",
    "        rev_masks: same as mask but in reversed time. This will be used in our RNN model for masking\n",
    "        y: a tensor of shape (# patients) of type torch.float\n",
    "        \n",
    "    Note that you can obtains the list of diagnosis codes and the list of hf labels\n",
    "        using: `sequences, labels = zip(*data)`\n",
    "    \"\"\"\n",
    "\n",
    "    sequences, labels = zip(*data)\n",
    "    num_patients = len(sequences)\n",
    "    num_visits = [len(patient) for patient in sequences]\n",
    "    num_codes = [len(visit) for patient in sequences for visit in patient]\n",
    "\n",
    "    max_num_visits = max(num_visits)\n",
    "    max_num_codes = max(num_codes)\n",
    "    \n",
    "    y = torch.zeros((num_patients, , dtype=torch.float)\n",
    "    \n",
    "    for label in labels:\n",
    "    \n",
    "    \n",
    "    x = torch.zeros((num_patients, max_num_visits, max_num_codes), dtype=torch.long)\n",
    "    rev_x = torch.zeros((num_patients, max_num_visits, max_num_codes), dtype=torch.long)\n",
    "    masks = torch.zeros((num_patients, max_num_visits, max_num_codes), dtype=torch.bool)\n",
    "    rev_masks = torch.zeros((num_patients, max_num_visits, max_num_codes), dtype=torch.bool)\n",
    "    for i_patient, patient in enumerate(sequences):\n",
    "        count = 0\n",
    "        for j_visit, visit in enumerate(patient):\n",
    "            \"\"\"\n",
    "            TODO: update `x`, `rev_x`, `masks`, and `rev_masks`\n",
    "            \"\"\"\n",
    "            visit_len = len(visit)\n",
    "            \n",
    "            x[i_patient][j_visit][:visit_len] = torch.tensor(visit)\n",
    "            masks[i_patient][j_visit][:visit_len] = torch.ones((visit_len),dtype=torch.bool)\n",
    "            count+=1\n",
    "            \n",
    "        reverse_x = x[i_patient][:count]\n",
    "        reverse_mask = masks[i_patient][:count]\n",
    "        \n",
    "        rev_x[i_patient][:count] = torch.flip(reverse_x, [0])\n",
    "        rev_masks[i_patient][:count] = torch.flip(reverse_mask, [0])\n",
    "    return x, masks, rev_x, rev_masks, y"
   ]
  },
  {
   "cell_type": "code",
   "execution_count": 163,
   "id": "e8c87ac3-0929-4112-a412-ea39a870ccce",
   "metadata": {},
   "outputs": [
    {
     "ename": "ValueError",
     "evalue": "too many dimensions 'str'",
     "output_type": "error",
     "traceback": [
      "\u001b[0;31m---------------------------------------------------------------------------\u001b[0m",
      "\u001b[0;31mValueError\u001b[0m                                Traceback (most recent call last)",
      "Input \u001b[0;32mIn [163]\u001b[0m, in \u001b[0;36m<module>\u001b[0;34m\u001b[0m\n\u001b[0;32m----> 1\u001b[0m x, masks, rev_x, rev_masks, y \u001b[38;5;241m=\u001b[39m \u001b[43mcollate_fn\u001b[49m\u001b[43m(\u001b[49m\u001b[43mtrain_dataset\u001b[49m\u001b[43m)\u001b[49m\n",
      "Input \u001b[0;32mIn [160]\u001b[0m, in \u001b[0;36mcollate_fn\u001b[0;34m(data)\u001b[0m\n\u001b[1;32m      2\u001b[0m \u001b[38;5;124;03m\"\"\"\u001b[39;00m\n\u001b[1;32m      3\u001b[0m \u001b[38;5;124;03mArguments:\u001b[39;00m\n\u001b[1;32m      4\u001b[0m \u001b[38;5;124;03m    data: a list of samples fetched from `CustomDataset`\u001b[39;00m\n\u001b[0;32m   (...)\u001b[0m\n\u001b[1;32m     14\u001b[0m \u001b[38;5;124;03m    using: `sequences, labels = zip(*data)`\u001b[39;00m\n\u001b[1;32m     15\u001b[0m \u001b[38;5;124;03m\"\"\"\u001b[39;00m\n\u001b[1;32m     17\u001b[0m sequences, labels \u001b[38;5;241m=\u001b[39m \u001b[38;5;28mzip\u001b[39m(\u001b[38;5;241m*\u001b[39mdata)\n\u001b[0;32m---> 19\u001b[0m y \u001b[38;5;241m=\u001b[39m \u001b[43mtorch\u001b[49m\u001b[38;5;241;43m.\u001b[39;49m\u001b[43mtensor\u001b[49m\u001b[43m(\u001b[49m\u001b[43mlabels\u001b[49m\u001b[43m,\u001b[49m\u001b[43m \u001b[49m\u001b[43mdtype\u001b[49m\u001b[38;5;241;43m=\u001b[39;49m\u001b[43mtorch\u001b[49m\u001b[38;5;241;43m.\u001b[39;49m\u001b[43mfloat\u001b[49m\u001b[43m)\u001b[49m\n\u001b[1;32m     21\u001b[0m num_patients \u001b[38;5;241m=\u001b[39m \u001b[38;5;28mlen\u001b[39m(sequences)\n\u001b[1;32m     22\u001b[0m num_visits \u001b[38;5;241m=\u001b[39m [\u001b[38;5;28mlen\u001b[39m(patient) \u001b[38;5;28;01mfor\u001b[39;00m patient \u001b[38;5;129;01min\u001b[39;00m sequences]\n",
      "\u001b[0;31mValueError\u001b[0m: too many dimensions 'str'"
     ]
    }
   ],
   "source": [
    "x, masks, rev_x, rev_masks, y = collate_fn(train_dataset)"
   ]
  },
  {
   "cell_type": "code",
   "execution_count": 162,
   "id": "c2d03a1e-7bd8-467c-b155-b1ab699ce8da",
   "metadata": {},
   "outputs": [],
   "source": [
    "from torch.utils.data import DataLoader\n",
    "\n",
    "def load_data(train_dataset, val_dataset, test_loader, collate_fn):\n",
    "    \n",
    "    batch_size = 32\n",
    "    \n",
    "    train_loader = DataLoader(train_dataset, batch_size=batch_size, collate_fn=collate_fn, shuffle=True)\n",
    "    val_loader = DataLoader(val_dataset, batch_size=batch_size, collate_fn=collate_fn)\n",
    "    test_loader = DataLoader(test_loader, batch_size=batch_size, collate_fn=collate_fn)\n",
    "    \n",
    "    return train_loader, val_loader, test_loader\n",
    "\n",
    "\n",
    "train_loader, val_loader, test_loader = load_data(train_dataset, val_dataset, test_dataset, collate_fn)"
   ]
  },
  {
   "cell_type": "markdown",
   "id": "888c7b45-5f82-4852-8ad2-a7775c775d75",
   "metadata": {},
   "source": [
    "## Build Model"
   ]
  },
  {
   "cell_type": "markdown",
   "id": "00ee0171-82a3-4f49-8baa-fef7e1f5efee",
   "metadata": {},
   "source": [
    "We treat the medical events taking place in EHR as medical codes, which are denoted as $c_{1}, c_{2},... c_{|C|}$ ∈ 𝐶, where |𝐶| is the total number of unique medical codes.\n",
    "\n",
    "One specific patient consist of a sequence of visits $v_{1}, v_{2},... v_{T}$ where we denote the number of visits in total as T.\n",
    "\n",
    "Each visit contains a subset of medical codes, and we denote each visit as a binary vector  $v_{t} ∈ \\{0, 1\\}_{|C|}$, where the 𝑖-th element is set to 1 if the 𝑡-th visit contains the medical code $c_{i}$, otherwise 0. The visits  $v_{1}, v_{2},... v_{T}$ are stacked to form an input matrix $X ∈ \\{0, 1\\}^{|C|xT}$ , which we use as the input for the network\n",
    "\n",
    "$E_{v} = {W}_{v}X$\n",
    "\n",
    "$E_{o} = {W}_{o}O$\n",
    "\n",
    "$E_{r} = \\alpha(\\beta \\odot (E_{v}+E_{o}))^{T}$"
   ]
  },
  {
   "cell_type": "code",
   "execution_count": null,
   "id": "17b78ac0-1bc5-46fa-98ac-83ca4cd3695c",
   "metadata": {},
   "outputs": [],
   "source": [
    "class AlphaAttention(torch.nn.Module):\n",
    "\n",
    "    def __init__(self, hidden_dim=256):\n",
    "        super().__init__()\n",
    "        \n",
    "        self.a_att = nn.Linear(hidden_dim, 1)\n",
    "        \n",
    "        self.sparsemax = Sparsemax(dim=-1)\n",
    "        self.softmax = torch.nn.Softmax(dim=-1)\n",
    "\n",
    "    def forward(self, g):\n",
    "        \n",
    "        y = self.a_att(g)\n",
    "        sparse_max = self.sparsemax(y)\n",
    "        soft_max = self.softmax(y)\n",
    "        \n",
    "        out = (sparse_max + soft_max) / 2\n",
    "        \n",
    "        return out\n",
    "    \n",
    "class BetaAttention(torch.nn.Module):\n",
    "\n",
    "    def __init__(self, hidden_dim=256):\n",
    "        \n",
    "        self.b_att = nn.Linear(hidden_dim, hidden_dim)\n",
    "\n",
    "    def forward(self, h):\n",
    "        \n",
    "        y = self.b_att(h)\n",
    "        out = torch.tanh(y)\n",
    "        \n",
    "        return out"
   ]
  },
  {
   "cell_type": "code",
   "execution_count": 22,
   "id": "74799646-67a2-4780-a4e2-8eabedce15f5",
   "metadata": {},
   "outputs": [
    {
     "ename": "NameError",
     "evalue": "name 'types' is not defined",
     "output_type": "error",
     "traceback": [
      "\u001b[0;31m---------------------------------------------------------------------------\u001b[0m",
      "\u001b[0;31mNameError\u001b[0m                                 Traceback (most recent call last)",
      "\u001b[0;32m/tmp/ipykernel_455/825688894.py\u001b[0m in \u001b[0;36m<module>\u001b[0;34m\u001b[0m\n\u001b[1;32m     26\u001b[0m \u001b[0;34m\u001b[0m\u001b[0m\n\u001b[1;32m     27\u001b[0m \u001b[0;31m# load the model here\u001b[0m\u001b[0;34m\u001b[0m\u001b[0;34m\u001b[0m\u001b[0;34m\u001b[0m\u001b[0m\n\u001b[0;32m---> 28\u001b[0;31m \u001b[0mmodel\u001b[0m \u001b[0;34m=\u001b[0m \u001b[0mINPREM\u001b[0m\u001b[0;34m(\u001b[0m\u001b[0mnum_codes\u001b[0m \u001b[0;34m=\u001b[0m \u001b[0mlen\u001b[0m\u001b[0;34m(\u001b[0m\u001b[0mtypes\u001b[0m\u001b[0;34m)\u001b[0m\u001b[0;34m)\u001b[0m\u001b[0;34m\u001b[0m\u001b[0;34m\u001b[0m\u001b[0m\n\u001b[0m\u001b[1;32m     29\u001b[0m \u001b[0mmodel\u001b[0m\u001b[0;34m\u001b[0m\u001b[0;34m\u001b[0m\u001b[0m\n",
      "\u001b[0;31mNameError\u001b[0m: name 'types' is not defined"
     ]
    }
   ],
   "source": [
    "class INPREM(nn.Module):\n",
    "    \n",
    "    def __init__(self, num_codes, embedding_dim=256):\n",
    "        super().__init__()\n",
    "        \n",
    "        self.embedding_v = nn.Embedding(num_codes, embedding_dim)\n",
    "        self.embedding_o = nn.Embedding(num_codes, embedding_dim)\n",
    "        \n",
    "        self.att_a = AlphaAttention(embedding_dim)\n",
    "        \n",
    "        self.att_b = BetaAttention(embedding_dim)\n",
    "        \n",
    "        self.do = nn.Dropout(.5)\n",
    "    \n",
    "    def forward(self, X):\n",
    "    \n",
    "        # Pass through embedding\n",
    "        ev = self.embedding_v(X)\n",
    "        eo = self.embedding_o(o)\n",
    "        \n",
    "        er = self.att_a * (self.att_b @ (ev + eo)).T # double check this\n",
    "        \n",
    "        # Softmax\n",
    "        out = F.softmax(x)\n",
    "    \n",
    "\n",
    "# load the model here\n",
    "model = INPREM(num_codes = len(types))\n",
    "model"
   ]
  },
  {
   "cell_type": "markdown",
   "id": "cfe5e895-e644-4790-9a3e-51d2ffdfc451",
   "metadata": {
    "tags": []
   },
   "source": [
    "## Evaluation"
   ]
  },
  {
   "cell_type": "code",
   "execution_count": null,
   "id": "1ee84c93-6357-4d93-b612-b7fde9d30c60",
   "metadata": {},
   "outputs": [],
   "source": [
    "def eval_model(model, dataloader, device=None):\n",
    "    model.eval()\n",
    "    y_pred = torch.LongTensor()\n",
    "    y_score = torch.Tensor()\n",
    "    y_true = torch.LongTensor()\n",
    "    \n",
    "    for DATA in dataloader:\n",
    "        y_logit = model(DATA)\n",
    "\n",
    "        y_hat = (y_logit > 0.5).int()\n",
    "\n",
    "        y_score = torch.cat((y_score,  y_logit.detach().to('cpu')), dim=0)\n",
    "        y_pred = torch.cat((y_pred,  y_hat.detach().to('cpu')), dim=0)\n",
    "        y_true = torch.cat((y_true, y.detach().to('cpu')), dim=0)\n",
    "    \n",
    "    p, r, f, _ = precision_recall_fscore_support(y_true, y_pred, average='binary')\n",
    "    roc_auc = roc_auc_score(y_true, y_score)\n",
    "    \n",
    "    return p, r, f, roc_auc"
   ]
  },
  {
   "cell_type": "markdown",
   "id": "38e5aa54-d7b3-4983-a834-77c898657366",
   "metadata": {},
   "source": [
    "## Train the Model"
   ]
  },
  {
   "cell_type": "code",
   "execution_count": null,
   "id": "e402cdc6-bb7b-4f0b-8efd-f6efff628b14",
   "metadata": {},
   "outputs": [],
   "source": [
    "def train(model, train_loader, val_loader, n_epochs):\n",
    "\n",
    "    for epoch in range(n_epochs):\n",
    "        model.train()\n",
    "        \n",
    "        train_loss = 0\n",
    "        for DATA, y in train_loader:\n",
    "            optimizer.zero_grad()\n",
    "            y_hat = model(x, masks, rev_x, rev_masks)\n",
    "\n",
    "            loss = criterion(y_hat, y)\n",
    "            \n",
    "            loss.backward()\n",
    "            optimizer.step()\n",
    "            \n",
    "            train_loss += loss.item()\n",
    "            \n",
    "        train_loss = train_loss / len(train_loader)\n",
    "        \n",
    "        print('Epoch: {} \\t Training Loss: {:.6f}'.format(epoch+1, train_loss))\n",
    "        \n",
    "        p, r, f, roc_auc = eval(model, val_loader)\n",
    "        \n",
    "        print('Epoch: {} \\t Validation p: {:.2f}, r:{:.2f}, f: {:.2f}, roc_auc: {:.2f}'.format(epoch+1, p, r, f, roc_auc))\n",
    "        \n",
    "    return round(roc_auc, 2)"
   ]
  },
  {
   "cell_type": "markdown",
   "id": "630845b1-f35a-4f28-93d3-593bfa3e9993",
   "metadata": {},
   "source": [
    "## Run"
   ]
  },
  {
   "cell_type": "markdown",
   "id": "35875830-7833-4907-9b0e-721957ac0db9",
   "metadata": {},
   "source": [
    "For training all approaches, we use Adam with the batch size of 32 and the learning rate of 0.0005. The weight decay is set to 𝜆 = 0.0001 and the dropout rate is set to 0.5 for all approaches"
   ]
  },
  {
   "cell_type": "code",
   "execution_count": 7,
   "id": "3ffaa109-7d45-4a3e-b9bb-0c9748a12770",
   "metadata": {},
   "outputs": [
    {
     "ename": "NameError",
     "evalue": "name 'IMPREM' is not defined",
     "output_type": "error",
     "traceback": [
      "\u001b[0;31m---------------------------------------------------------------------------\u001b[0m",
      "\u001b[0;31mNameError\u001b[0m                                 Traceback (most recent call last)",
      "Input \u001b[0;32mIn [7]\u001b[0m, in \u001b[0;36m<module>\u001b[0;34m\u001b[0m\n\u001b[1;32m      1\u001b[0m \u001b[38;5;66;03m# load the model\u001b[39;00m\n\u001b[0;32m----> 2\u001b[0m model \u001b[38;5;241m=\u001b[39m \u001b[43mIMPREM\u001b[49m(num_codes \u001b[38;5;241m=\u001b[39m \u001b[38;5;28mlen\u001b[39m(types))\n\u001b[1;32m      4\u001b[0m \u001b[38;5;66;03m# load the loss function\u001b[39;00m\n\u001b[1;32m      5\u001b[0m criterion \u001b[38;5;241m=\u001b[39m nn\u001b[38;5;241m.\u001b[39mBCELoss()\n",
      "\u001b[0;31mNameError\u001b[0m: name 'IMPREM' is not defined"
     ]
    }
   ],
   "source": [
    "# load the model\n",
    "model = IMPREM(num_codes = len(types))\n",
    "\n",
    "# load the loss function\n",
    "criterion = nn.BCELoss()\n",
    "# load the optimizer\n",
    "optimizer = torch.optim.Adam(model.parameters(), lr=5e-4, weight_decay=1e-4)\n",
    "\n",
    "n_epochs = 5\n",
    "train(model, train_loader, val_loader, n_epochs)"
   ]
  },
  {
   "cell_type": "code",
   "execution_count": null,
   "id": "ef3b9314-e48e-41f1-bfec-a23381f59b6b",
   "metadata": {},
   "outputs": [],
   "source": []
  },
  {
   "cell_type": "markdown",
   "id": "7bbc121b-8d7d-4d90-84b8-eed2a485ace3",
   "metadata": {},
   "source": [
    "## Abblations"
   ]
  },
  {
   "cell_type": "code",
   "execution_count": null,
   "id": "1c088435-9f4e-47e4-9fd2-3743022347db",
   "metadata": {},
   "outputs": [],
   "source": []
  }
 ],
 "metadata": {
  "kernelspec": {
   "display_name": "Python 3 (ipykernel)",
   "language": "python",
   "name": "python3"
  },
  "language_info": {
   "codemirror_mode": {
    "name": "ipython",
    "version": 3
   },
   "file_extension": ".py",
   "mimetype": "text/x-python",
   "name": "python",
   "nbconvert_exporter": "python",
   "pygments_lexer": "ipython3",
   "version": "3.9.10"
  }
 },
 "nbformat": 4,
 "nbformat_minor": 5
}
